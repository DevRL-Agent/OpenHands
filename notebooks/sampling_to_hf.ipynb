{
 "cells": [
  {
   "cell_type": "code",
   "execution_count": null,
   "metadata": {},
   "outputs": [],
   "source": []
  },
  {
   "cell_type": "code",
   "execution_count": null,
   "metadata": {},
   "outputs": [],
   "source": [
    "from huggingface_hub import HfApi\n",
    "\n",
    "api = HfApi()\n",
    "\n",
    "# folder_path = \"/home/jiayidotpan/code/OpenHands/evaluation/evaluation_outputs/outputs/swe-bench-lite/CodeActAgent/ft_gpt-4o-mini-2024-07-18_berkeley-nlp-suhr_swe-mini-test-72-dp_AKagiUKL_maxiter_30_N_v1.9-no-hint-run_1\"\n",
    "# path_in_repo = \"benchlite-sft-4omini-v2-72\"\n",
    "\n",
    "# folder_path = \"/home/jiayidotpan/code/OpenHands/Archive/ft_gpt-4o-mini-2024-07-18_berkeley-nlp-suhr_swe-mini-test_AHLyc3T8_maxiter_30_N_v1.9-no-hint\"\n",
    "# path_in_repo = \"benchlite-sft-4omini-v1-20\"\n",
    "\n",
    "# folder_path = \"/home/jiayidotpan/code/OpenHands/Archive/ft_gpt-4o-mini-2024-07-18_berkeley-nlp-suhr_swe-mini-test_AHLyc3T8_maxiter_30_N_v1.9-no-hint\"\n",
    "\n",
    "# folder_path = \"/home/jiayidotpan/code/OpenHands/evaluation/evaluation_outputs/outputs/swe-train__swe-train-dev-v1-lite-train.v1.success\"\n",
    "# path_in_repo = \"trainlitev1-ds25-5runs-t02\"\n",
    "\n",
    "folder_path = '/home/jiayidotpan/code/OpenHands/evaluation/evaluation_outputs/outputs/swe-train__swe-train-dev-v1-train.v2.success/CodeActAgent/gpt-4o-mini_maxiter_30_N_v1.9-no-hint-run_1'\n",
    "path_in_repo = 'trainv2-4omini-run1-t0'\n",
    "\n",
    "repo_name = 'swe-train/sampling-logs'\n",
    "api.create_repo(repo_id=repo_name, private=True, exist_ok=True, repo_type='dataset')\n",
    "api.upload_folder(\n",
    "    folder_path=folder_path,\n",
    "    repo_id=repo_name,\n",
    "    repo_type='dataset',\n",
    "    path_in_repo=path_in_repo,\n",
    "    multi_commits=True,\n",
    ")"
   ]
  },
  {
   "cell_type": "code",
   "execution_count": null,
   "metadata": {},
   "outputs": [],
   "source": []
  }
 ],
 "metadata": {
  "kernelspec": {
   "display_name": "swebench",
   "language": "python",
   "name": "python3"
  },
  "language_info": {
   "codemirror_mode": {
    "name": "ipython",
    "version": 3
   },
   "file_extension": ".py",
   "mimetype": "text/x-python",
   "name": "python",
   "nbconvert_exporter": "python",
   "pygments_lexer": "ipython3",
   "version": "3.10.14"
  }
 },
 "nbformat": 4,
 "nbformat_minor": 2
}
