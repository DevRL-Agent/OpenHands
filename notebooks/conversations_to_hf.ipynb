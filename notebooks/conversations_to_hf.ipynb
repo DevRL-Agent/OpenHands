{
 "cells": [
  {
   "cell_type": "code",
   "execution_count": 1,
   "metadata": {},
   "outputs": [
    {
     "name": "stderr",
     "output_type": "stream",
     "text": [
      "/home/jiayidotpan/miniforge3/envs/swebench/lib/python3.10/site-packages/tqdm/auto.py:21: TqdmWarning: IProgress not found. Please update jupyter and ipywidgets. See https://ipywidgets.readthedocs.io/en/stable/user_install.html\n",
      "  from .autonotebook import tqdm as notebook_tqdm\n"
     ]
    }
   ],
   "source": [
    "import json\n",
    "\n",
    "from datasets import Dataset\n",
    "\n",
    "\n",
    "def get_openai_datapoint(llm_completions):\n",
    "    last_msg = llm_completions[-1]\n",
    "    messages = last_msg['messages']\n",
    "    flattened_messages = []\n",
    "    for message in messages:\n",
    "        for content in message['content']:\n",
    "            flattened_messages.append(\n",
    "                {'role': message['role'], 'content': content['text']}\n",
    "            )\n",
    "    flattened_messages.append(\n",
    "        {\n",
    "            'role': 'assistant',\n",
    "            'content': last_msg['response']['choices'][0]['message']['content'],\n",
    "        }\n",
    "    )\n",
    "    return flattened_messages\n",
    "\n",
    "\n",
    "def to_sft_data(output_root):\n",
    "    output_eval_path = output_root + '/output.swebench_eval.jsonl'\n",
    "    output_path = output_root + '/output.jsonl'\n",
    "    eval_result = {}\n",
    "    for line in open(output_eval_path):\n",
    "        this_eval = json.loads(line)\n",
    "        instance_id = this_eval['instance_id']\n",
    "        is_resolved = this_eval.get('test_result', {}).get('report', {}).get('resolved')\n",
    "        eval_result[instance_id] = is_resolved\n",
    "    trajectories = {}\n",
    "    for line in open(output_path):\n",
    "        dp = json.loads(line)\n",
    "        instance_id = dp['instance_id']\n",
    "        trajectories[instance_id] = get_openai_datapoint(dp['llm_completions'])\n",
    "    hf_data_dict = {'instance_id': [], 'conversations': [], 'resolved': []}\n",
    "    for instance_id, is_success in eval_result.items():\n",
    "        hf_data_dict['instance_id'].append(instance_id)\n",
    "        hf_data_dict['conversations'].append(trajectories[instance_id])\n",
    "        hf_data_dict['resolved'].append(is_success)\n",
    "    hf_dataset = Dataset.from_dict(hf_data_dict)\n",
    "    return hf_dataset"
   ]
  },
  {
   "cell_type": "code",
   "execution_count": 2,
   "metadata": {},
   "outputs": [],
   "source": [
    "# Debug\n",
    "# import json\n",
    "# D = []\n",
    "# with open(\"/home/jiayidotpan/code/OpenHands/evaluation/evaluation_outputs/outputs/swe-train__swe-train-dev-v1-train.v2.success/CodeActAgent/gpt-4o-mini_maxiter_30_N_v1.9-no-hint-run_1/output.jsonl\") as f:\n",
    "#     for line in f:\n",
    "#         D.append(json.loads(line))\n",
    "# idx = 520\n",
    "# last_msg = D[idx]['llm_completions'][-1]['messages'][-1]\n",
    "# print(last_msg['role'], '\\n', last_msg['content'][0]['text'][:50])\n",
    "# print(D[idx]['llm_completions'][-1]['response']['choices'][0]['message'])"
   ]
  },
  {
   "cell_type": "code",
   "execution_count": 2,
   "metadata": {},
   "outputs": [],
   "source": [
    "output_root = '/home/jiayidotpan/code/OpenHands/evaluation/evaluation_outputs/outputs/swe-train__swe-train-dev-v1-train.v2.success/CodeActAgent/gpt-4o-mini_maxiter_30_N_v1.9-no-hint-run_1'\n",
    "hf_dataset = to_sft_data(output_root)"
   ]
  },
  {
   "cell_type": "code",
   "execution_count": null,
   "metadata": {},
   "outputs": [],
   "source": [
    "# hf_dataset[0]\n",
    "hf_dataset.push_to_hub(\n",
    "    'swe-train/sft-data-with-labels', split='oct22.swetrainv2.4omini.run1', private=True\n",
    ")"
   ]
  },
  {
   "cell_type": "code",
   "execution_count": null,
   "metadata": {},
   "outputs": [],
   "source": [
    "from datasets import load_dataset\n",
    "\n",
    "D = load_dataset('swe-train/sft-data-with-labels')"
   ]
  },
  {
   "cell_type": "code",
   "execution_count": null,
   "metadata": {},
   "outputs": [],
   "source": [
    "D['oct22.swetrainv2.4omini.run1'][-231]"
   ]
  },
  {
   "cell_type": "code",
   "execution_count": null,
   "metadata": {},
   "outputs": [],
   "source": [
    "for run in range(1, 6):\n",
    "    output_root = f'/home/jiayidotpan/code/OpenHands/evaluation/evaluation_outputs/outputs/swe-train__swe-train-dev-v1-lite-train.v1.success/CodeActAgent/deepseek-coder_maxiter_30_N_v1.9-no-hint-run_{run}'\n",
    "    hf_dataset = to_sft_data(output_root)\n",
    "    # hf_dataset.push_to_hub(\"swe-train/sft-data-with-full-labels\", split=f\"oct20.swetrainlite.ds25.run{run}\", private=True)"
   ]
  }
 ],
 "metadata": {
  "kernelspec": {
   "display_name": "swebench",
   "language": "python",
   "name": "python3"
  },
  "language_info": {
   "codemirror_mode": {
    "name": "ipython",
    "version": 3
   },
   "file_extension": ".py",
   "mimetype": "text/x-python",
   "name": "python",
   "nbconvert_exporter": "python",
   "pygments_lexer": "ipython3",
   "version": "3.10.14"
  }
 },
 "nbformat": 4,
 "nbformat_minor": 2
}
